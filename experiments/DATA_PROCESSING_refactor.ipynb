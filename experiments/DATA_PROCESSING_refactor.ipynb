{
 "cells": [
  {
   "cell_type": "markdown",
   "id": "de8ea2d5",
   "metadata": {},
   "source": [
    "# DATA_PROCESSING (refactor) — generación de HDF5 en local"
   ]
  },
  {
   "cell_type": "code",
   "execution_count": null,
   "id": "aa4ada36",
   "metadata": {},
   "outputs": [],
   "source": [
    "\n",
    "# !pip install snntorch numpy pandas h5py opencv-python pyyaml tqdm\n",
    "from experiments.build_dataset import build_h5_from_csv\n",
    "csv_path = \"data/udacity/driving_log.csv\"\n",
    "image_root = \"data/udacity/IMG\"\n",
    "out_h5 = \"data/udacity/circuit1.h5\"\n",
    "params = dict(image_root=image_root, use_camera=\"center\", balance=True, num_bins=25, samples_per_bin=200,\n",
    "              to_gray=True, resize=(160,320), encode=\"rate\", num_steps=12, gain=0.5)\n",
    "build_h5_from_csv(csv_path, out_h5, **params)\n",
    "print(\"HDF5 generado en:\", out_h5)\n"
   ]
  }
 ],
 "metadata": {},
 "nbformat": 4,
 "nbformat_minor": 5
}
